{
  "nbformat": 4,
  "nbformat_minor": 5,
  "metadata": {
    "kernelspec": {
      "display_name": "Python 3",
      "language": "python",
      "name": "python3"
    },
    "language_info": {
      "codemirror_mode": {
        "name": "ipython",
        "version": 3
      },
      "file_extension": ".py",
      "mimetype": "text/x-python",
      "name": "python",
      "nbconvert_exporter": "python",
      "pygments_lexer": "ipython3",
      "version": "3.8.8"
    },
    "colab": {
      "name": "Taller1.ipynb",
      "provenance": [],
      "include_colab_link": true
    },
    "accelerator": "GPU"
  },
  "cells": [
    {
      "cell_type": "markdown",
      "metadata": {
        "id": "view-in-github",
        "colab_type": "text"
      },
      "source": [
        "<a href=\"https://colab.research.google.com/github/pablocort/git-and-github-fundamentals-pablocort/blob/first-draft-content/Taller1.ipynb\" target=\"_parent\"><img src=\"https://colab.research.google.com/assets/colab-badge.svg\" alt=\"Open In Colab\"/></a>"
      ]
    },
    {
      "cell_type": "markdown",
      "metadata": {
        "id": "adbf6874-ae36-4e2b-aff0-6a386f24dc62"
      },
      "source": [
        "<h1 align = \"center\"> Taller 1 <h1>"
      ],
      "id": "adbf6874-ae36-4e2b-aff0-6a386f24dc62"
    },
    {
      "cell_type": "code",
      "metadata": {
        "colab": {
          "base_uri": "https://localhost:8080/"
        },
        "id": "48lz2921u4Dz",
        "outputId": "75a5ad89-844b-4a04-e456-899991c8be82"
      },
      "source": [
        "!pip install google"
      ],
      "id": "48lz2921u4Dz",
      "execution_count": 28,
      "outputs": [
        {
          "output_type": "stream",
          "text": [
            "Requirement already satisfied: google in /usr/local/lib/python3.7/dist-packages (2.0.3)\n",
            "Requirement already satisfied: beautifulsoup4 in /usr/local/lib/python3.7/dist-packages (from google) (4.6.3)\n"
          ],
          "name": "stdout"
        }
      ]
    },
    {
      "cell_type": "code",
      "metadata": {
        "id": "94f8034d-ea33-4194-9cd6-1fe82b63e98d"
      },
      "source": [
        "#Cargar todas las librerías necesarias\n",
        "import pandas as pd\n",
        "import numpy as np\n",
        "pd.set_option('display.float_format', lambda x: '%.3f' % x)\n",
        "import seaborn as sns\n",
        "import matplotlib.pyplot as plt\n",
        "import statsmodels.api as sm \n",
        "from google.colab import drive\n",
        "import matplotlib as m\n",
        "import math\n",
        "from sklearn.impute import KNNImputer"
      ],
      "id": "94f8034d-ea33-4194-9cd6-1fe82b63e98d",
      "execution_count": 29,
      "outputs": []
    },
    {
      "cell_type": "code",
      "metadata": {
        "colab": {
          "base_uri": "https://localhost:8080/"
        },
        "id": "VsGlblIYvECI",
        "outputId": "0f03bf31-8043-4027-f511-1be3bafbc5bd"
      },
      "source": [
        "drive.mount(\"/content/drive\")"
      ],
      "id": "VsGlblIYvECI",
      "execution_count": 30,
      "outputs": [
        {
          "output_type": "stream",
          "text": [
            "Drive already mounted at /content/drive; to attempt to forcibly remount, call drive.mount(\"/content/drive\", force_remount=True).\n"
          ],
          "name": "stdout"
        }
      ]
    },
    {
      "cell_type": "code",
      "metadata": {
        "id": "8b47275a-6c2d-45a0-9bb0-92068e37a3a9"
      },
      "source": [
        "# Cargar base de datos\n",
        "housing = pd.read_csv(\"/content/drive/MyDrive/co_properties.csv\", encoding=\"utf-8\")"
      ],
      "id": "8b47275a-6c2d-45a0-9bb0-92068e37a3a9",
      "execution_count": 31,
      "outputs": []
    },
    {
      "cell_type": "code",
      "metadata": {
        "colab": {
          "base_uri": "https://localhost:8080/"
        },
        "id": "fe955fb9-1cc8-46d3-a567-dc1421eb1ef5",
        "outputId": "b71e8d49-9240-4df5-d130-175b0a601bef"
      },
      "source": [
        "housing.columns"
      ],
      "id": "fe955fb9-1cc8-46d3-a567-dc1421eb1ef5",
      "execution_count": 32,
      "outputs": [
        {
          "output_type": "execute_result",
          "data": {
            "text/plain": [
              "Index(['id', 'ad_type', 'start_date', 'end_date', 'created_on', 'lat', 'lon',\n",
              "       'l1', 'l2', 'l3', 'l4', 'l5', 'l6', 'rooms', 'bedrooms', 'bathrooms',\n",
              "       'surface_total', 'surface_covered', 'price', 'currency', 'price_period',\n",
              "       'title', 'description', 'property_type', 'operation_type'],\n",
              "      dtype='object')"
            ]
          },
          "metadata": {},
          "execution_count": 32
        }
      ]
    },
    {
      "cell_type": "code",
      "metadata": {
        "colab": {
          "base_uri": "https://localhost:8080/"
        },
        "id": "c6e2cb6e-3ff2-487d-914f-6f1268725b9b",
        "outputId": "30588f53-e3f7-4941-f98d-ec08a0d69889"
      },
      "source": [
        "#filtramos aquellos que se ubican en Medellín, Bogotá y Cali \n",
        "houses = housing[(housing['l3'] == 'Bogotá D.C') | (housing['l3'] == 'Cali') | (housing['l3'] == 'Medellín')]\n",
        "houses = houses[(houses['operation_type'] == 'Venta')]\n",
        "\n",
        "houses['l3'].value_counts()"
      ],
      "id": "c6e2cb6e-3ff2-487d-914f-6f1268725b9b",
      "execution_count": 33,
      "outputs": [
        {
          "output_type": "execute_result",
          "data": {
            "text/plain": [
              "Bogotá D.C    129996\n",
              "Cali           52877\n",
              "Medellín       51643\n",
              "Name: l3, dtype: int64"
            ]
          },
          "metadata": {},
          "execution_count": 33
        }
      ]
    },
    {
      "cell_type": "code",
      "metadata": {
        "colab": {
          "base_uri": "https://localhost:8080/"
        },
        "id": "153f1786-28cc-4e67-86f0-df22a8f11bc7",
        "outputId": "7cf0d3e2-0bf6-4994-a23a-0cec36d3acb8"
      },
      "source": [
        "#borramos NA unicamente de las variables Price, currency (variable moneda) y L3 (variable municipio)\n",
        "#porque las observaciones que no tienen estos datos no aportan nada al análisis\n",
        "\n",
        "houses = houses.dropna(subset= ['price', 'currency', 'l3'])\n",
        "houses.isna().sum()"
      ],
      "id": "153f1786-28cc-4e67-86f0-df22a8f11bc7",
      "execution_count": 34,
      "outputs": [
        {
          "output_type": "execute_result",
          "data": {
            "text/plain": [
              "id                      0\n",
              "ad_type                 0\n",
              "start_date              0\n",
              "end_date                0\n",
              "created_on              0\n",
              "lat                 31570\n",
              "lon                 31570\n",
              "l1                      0\n",
              "l2                      0\n",
              "l3                      0\n",
              "l4                  52517\n",
              "l5                 122821\n",
              "l6                 196431\n",
              "rooms              148604\n",
              "bedrooms           147145\n",
              "bathrooms           30644\n",
              "surface_total      151878\n",
              "surface_covered    152186\n",
              "price                   0\n",
              "currency                0\n",
              "price_period       226218\n",
              "title                  33\n",
              "description            13\n",
              "property_type           0\n",
              "operation_type          0\n",
              "dtype: int64"
            ]
          },
          "metadata": {},
          "execution_count": 34
        }
      ]
    },
    {
      "cell_type": "code",
      "metadata": {
        "colab": {
          "base_uri": "https://localhost:8080/"
        },
        "id": "v--dZbY84xuP",
        "outputId": "44e1aa83-d8be-4f33-e6c1-7f83287a44ec"
      },
      "source": [
        "housing[\"l4\"].unique()"
      ],
      "id": "v--dZbY84xuP",
      "execution_count": 35,
      "outputs": [
        {
          "output_type": "execute_result",
          "data": {
            "text/plain": [
              "array(['Zona Sur', nan, 'Candelaria', 'Zona Centro', 'Belén', 'Castilla',\n",
              "       'Buenos Aires', 'La América', 'El Poblado', 'Robledo',\n",
              "       'Zona Chapinero', 'Zona Noroccidental', 'Pance', 'Lili',\n",
              "       'Zona Norte', 'Zona Occidental', 'Zona Suroccidental',\n",
              "       'San Javier', 'Palmitas', 'Santa Isabel', 'Usaquén',\n",
              "       'Nuevo Horizonte', 'Los Mártires', 'Caney', 'La Flora', 'Laureles',\n",
              "       'Teusaquillo', 'Engativa', 'Barrios Unidos', 'El Recreo', 'Olaya',\n",
              "       'Puente Aranda', 'Antonio Nariño', 'San Alonso',\n",
              "       'Paseo de la Castellana', 'El Ingenio', 'Aranjuez',\n",
              "       'Villa Hermosa', 'San Cristóbal', 'Ciudad Jardín', 'Manrique',\n",
              "       'Popular', 'El Prado', 'Ríomar', 'Las Palmas', 'Guayabal',\n",
              "       'El Limonar', 'San Fernando Viejo', 'San Fernando Nuevo',\n",
              "       'San Antonio de Prado', 'Norte-Centro Histórico',\n",
              "       'Doce de Octubre', 'Santa Elena', 'Altavista', 'Antonia Santos',\n",
              "       'Alarcón', 'Bosa', 'San Felipe', 'Santa Cruz', 'Tunjuelito',\n",
              "       'Ciudad Bolívar', 'Rafael Uribe Uribe', 'Nueva Granada',\n",
              "       'Puerto Colombia', 'San Mateo', 'Santa Mónica', 'Campo Alegre',\n",
              "       'Mejoras Públicas', 'Sumapaz', 'Suroccidente', 'La Granja',\n",
              "       'Soledad', 'Galapa', 'Comuna 3 San Francisco', 'Metropolitana',\n",
              "       'Carrizal', 'Malambo'], dtype=object)"
            ]
          },
          "metadata": {},
          "execution_count": 35
        }
      ]
    },
    {
      "cell_type": "code",
      "metadata": {
        "colab": {
          "base_uri": "https://localhost:8080/",
          "height": 668
        },
        "id": "5375a990-81cb-49c8-a862-e90253a0223b",
        "outputId": "c12bc6ab-c441-48c8-d5ef-a77656068000"
      },
      "source": [
        "cdict = {\n",
        "  'red'  :  ( (0.0, 0.25, .25), (0.02, .59, .59), (1., 1., 1.)),\n",
        "  'green':  ( (0.0, 0.0, 0.0), (0.02, .45, .45), (1., .97, .97)),\n",
        "  'blue' :  ( (0.0, 1.0, 1.0), (0.02, .75, .75), (1., 0.45, 0.45))\n",
        "}\n",
        "\n",
        "cm = m.colors.LinearSegmentedColormap('colormap', cdict, 1024)\n",
        "\n",
        "plt.figure(figsize=(12,10))\n",
        "cor = houses.corr()\n",
        "sns.heatmap(cor, annot=True, cmap=cm)\n",
        "plt.show()"
      ],
      "id": "5375a990-81cb-49c8-a862-e90253a0223b",
      "execution_count": 36,
      "outputs": [
        {
          "output_type": "display_data",
          "data": {
            "image/png": "[encoded data removed]",
            "text/plain": [
              "<Figure size 864x720 with 2 Axes>"
            ]
          },
          "metadata": {
            "needs_background": "light"
          }
        }
      ]
    },
    {
      "cell_type": "code",
      "metadata": {
        "id": "5555a1de-8c02-4c06-86a3-fc947a6ad47c"
      },
      "source": [
        "variables = [\"lat\", \"lon\", \"l3\", \"rooms\", \"bathrooms\", \"bedrooms\",\"surface_total\", \"surface_covered\",\n",
        "             \"price\", \"currency\", \"property_type\"]"
      ],
      "id": "5555a1de-8c02-4c06-86a3-fc947a6ad47c",
      "execution_count": 37,
      "outputs": []
    },
    {
      "cell_type": "code",
      "metadata": {
        "id": "98873df2-740e-4bf0-b95e-06e0f4d2b412"
      },
      "source": [
        "houses = houses[variables]"
      ],
      "id": "98873df2-740e-4bf0-b95e-06e0f4d2b412",
      "execution_count": 38,
      "outputs": []
    },
    {
      "cell_type": "code",
      "metadata": {
        "colab": {
          "base_uri": "https://localhost:8080/",
          "height": 203
        },
        "id": "89789e65-b9f2-4cb4-95a0-cabe6eece36d",
        "outputId": "79ced987-3924-4734-98b3-6d54f2160b3b"
      },
      "source": [
        "houses.reset_index(inplace=True, drop=True)\n",
        "houses.head()"
      ],
      "id": "89789e65-b9f2-4cb4-95a0-cabe6eece36d",
      "execution_count": 39,
      "outputs": [
        {
          "output_type": "execute_result",
          "data": {
            "text/html": [
              "<div>\n",
              "<style scoped>\n",
              "    .dataframe tbody tr th:only-of-type {\n",
              "        vertical-align: middle;\n",
              "    }\n",
              "\n",
              "    .dataframe tbody tr th {\n",
              "        vertical-align: top;\n",
              "    }\n",
              "\n",
              "    .dataframe thead th {\n",
              "        text-align: right;\n",
              "    }\n",
              "</style>\n",
              "<table border=\"1\" class=\"dataframe\">\n",
              "  <thead>\n",
              "    <tr style=\"text-align: right;\">\n",
              "      <th></th>\n",
              "      <th>lat</th>\n",
              "      <th>lon</th>\n",
              "      <th>l3</th>\n",
              "      <th>rooms</th>\n",
              "      <th>bathrooms</th>\n",
              "      <th>bedrooms</th>\n",
              "      <th>surface_total</th>\n",
              "      <th>surface_covered</th>\n",
              "      <th>price</th>\n",
              "      <th>currency</th>\n",
              "      <th>property_type</th>\n",
              "    </tr>\n",
              "  </thead>\n",
              "  <tbody>\n",
              "    <tr>\n",
              "      <th>0</th>\n",
              "      <td>4.577</td>\n",
              "      <td>-74.153</td>\n",
              "      <td>Bogotá D.C</td>\n",
              "      <td>nan</td>\n",
              "      <td>2.000</td>\n",
              "      <td>nan</td>\n",
              "      <td>nan</td>\n",
              "      <td>350.000</td>\n",
              "      <td>1600000000.000</td>\n",
              "      <td>COP</td>\n",
              "      <td>Casa</td>\n",
              "    </tr>\n",
              "    <tr>\n",
              "      <th>1</th>\n",
              "      <td>6.253</td>\n",
              "      <td>-75.565</td>\n",
              "      <td>Medellín</td>\n",
              "      <td>nan</td>\n",
              "      <td>nan</td>\n",
              "      <td>nan</td>\n",
              "      <td>15850.000</td>\n",
              "      <td>nan</td>\n",
              "      <td>9510000000.000</td>\n",
              "      <td>COP</td>\n",
              "      <td>Lote</td>\n",
              "    </tr>\n",
              "    <tr>\n",
              "      <th>2</th>\n",
              "      <td>4.607</td>\n",
              "      <td>-74.076</td>\n",
              "      <td>Bogotá D.C</td>\n",
              "      <td>nan</td>\n",
              "      <td>nan</td>\n",
              "      <td>nan</td>\n",
              "      <td>727.000</td>\n",
              "      <td>2800.000</td>\n",
              "      <td>8800000000.000</td>\n",
              "      <td>COP</td>\n",
              "      <td>Otro</td>\n",
              "    </tr>\n",
              "    <tr>\n",
              "      <th>3</th>\n",
              "      <td>6.253</td>\n",
              "      <td>-75.606</td>\n",
              "      <td>Medellín</td>\n",
              "      <td>3.000</td>\n",
              "      <td>2.000</td>\n",
              "      <td>3.000</td>\n",
              "      <td>103.000</td>\n",
              "      <td>103.000</td>\n",
              "      <td>235000000.000</td>\n",
              "      <td>COP</td>\n",
              "      <td>Casa</td>\n",
              "    </tr>\n",
              "    <tr>\n",
              "      <th>4</th>\n",
              "      <td>6.252</td>\n",
              "      <td>-75.598</td>\n",
              "      <td>Medellín</td>\n",
              "      <td>3.000</td>\n",
              "      <td>2.000</td>\n",
              "      <td>3.000</td>\n",
              "      <td>89.000</td>\n",
              "      <td>89.000</td>\n",
              "      <td>380000000.000</td>\n",
              "      <td>COP</td>\n",
              "      <td>Apartamento</td>\n",
              "    </tr>\n",
              "  </tbody>\n",
              "</table>\n",
              "</div>"
            ],
            "text/plain": [
              "    lat     lon          l3  ...          price  currency  property_type\n",
              "0 4.577 -74.153  Bogotá D.C  ... 1600000000.000       COP           Casa\n",
              "1 6.253 -75.565    Medellín  ... 9510000000.000       COP           Lote\n",
              "2 4.607 -74.076  Bogotá D.C  ... 8800000000.000       COP           Otro\n",
              "3 6.253 -75.606    Medellín  ...  235000000.000       COP           Casa\n",
              "4 6.252 -75.598    Medellín  ...  380000000.000       COP    Apartamento\n",
              "\n",
              "[5 rows x 11 columns]"
            ]
          },
          "metadata": {},
          "execution_count": 39
        }
      ]
    },
    {
      "cell_type": "code",
      "metadata": {
        "colab": {
          "base_uri": "https://localhost:8080/",
          "height": 684
        },
        "id": "3LjrmBbd2ZN1",
        "outputId": "8f80f6d5-37bb-4862-8f5e-fda2d713ac7c"
      },
      "source": [
        "plt.figure(figsize=(10,10))\n",
        "sns.heatmap(houses.isnull(), cbar=False)"
      ],
      "id": "3LjrmBbd2ZN1",
      "execution_count": 40,
      "outputs": [
        {
          "output_type": "execute_result",
          "data": {
            "text/plain": [
              "<matplotlib.axes._subplots.AxesSubplot at 0x7fdcbb2a3bd0>"
            ]
          },
          "metadata": {},
          "execution_count": 40
        },
        {
          "output_type": "display_data",
          "data": {
            "image/png": "[encoded data removed]",
            "text/plain": [
              "<Figure size 720x720 with 1 Axes>"
            ]
          },
          "metadata": {
            "needs_background": "light"
          }
        }
      ]
    },
    {
      "cell_type": "code",
      "metadata": {
        "id": "yAA3geEK7esD"
      },
      "source": [
        "houses[[\"lat\", \"lon\", \"l3\"]] = houses[[\"lat\", \"lon\", \"l3\"]].groupby(\"l3\").apply(lambda group: group.interpolate(method=\"linear\"))\n",
        "#houses[[\"lat\", \"lon\"]] = houses[[\"lat\", \"lon\"]].interpolate(method=\"linear\")"
      ],
      "id": "yAA3geEK7esD",
      "execution_count": 41,
      "outputs": []
    },
    {
      "cell_type": "code",
      "metadata": {
        "colab": {
          "base_uri": "https://localhost:8080/",
          "height": 684
        },
        "id": "ZdBjxBHN7tyU",
        "outputId": "dd66962e-fb34-4286-ba93-a3db43467069"
      },
      "source": [
        "plt.figure(figsize=(10,10))\n",
        "sns.heatmap(houses.isnull(), cbar=False)"
      ],
      "id": "ZdBjxBHN7tyU",
      "execution_count": 42,
      "outputs": [
        {
          "output_type": "execute_result",
          "data": {
            "text/plain": [
              "<matplotlib.axes._subplots.AxesSubplot at 0x7fdca7355b90>"
            ]
          },
          "metadata": {},
          "execution_count": 42
        },
        {
          "output_type": "display_data",
          "data": {
            "image/png": "[encoded data removed]",
            "text/plain": [
              "<Figure size 720x720 with 1 Axes>"
            ]
          },
          "metadata": {
            "needs_background": "light"
          }
        }
      ]
    },
    {
      "cell_type": "code",
      "metadata": {
        "id": "Vk2Kjg2iGqDn"
      },
      "source": [
        "houses[\"l3\"] = houses[\"l3\"].astype(\"category\")"
      ],
      "id": "Vk2Kjg2iGqDn",
      "execution_count": 43,
      "outputs": []
    },
    {
      "cell_type": "code",
      "metadata": {
        "colab": {
          "base_uri": "https://localhost:8080/",
          "height": 203
        },
        "id": "NpW0R1kkG22y",
        "outputId": "5d8f8cc6-cead-4975-e896-b6d6805cc054"
      },
      "source": [
        "houses[\"ciudades_encoded\"] = houses[\"l3\"].cat.codes\n",
        "houses.head()"
      ],
      "id": "NpW0R1kkG22y",
      "execution_count": 44,
      "outputs": [
        {
          "output_type": "execute_result",
          "data": {
            "text/html": [
              "<div>\n",
              "<style scoped>\n",
              "    .dataframe tbody tr th:only-of-type {\n",
              "        vertical-align: middle;\n",
              "    }\n",
              "\n",
              "    .dataframe tbody tr th {\n",
              "        vertical-align: top;\n",
              "    }\n",
              "\n",
              "    .dataframe thead th {\n",
              "        text-align: right;\n",
              "    }\n",
              "</style>\n",
              "<table border=\"1\" class=\"dataframe\">\n",
              "  <thead>\n",
              "    <tr style=\"text-align: right;\">\n",
              "      <th></th>\n",
              "      <th>lat</th>\n",
              "      <th>lon</th>\n",
              "      <th>l3</th>\n",
              "      <th>rooms</th>\n",
              "      <th>bathrooms</th>\n",
              "      <th>bedrooms</th>\n",
              "      <th>surface_total</th>\n",
              "      <th>surface_covered</th>\n",
              "      <th>price</th>\n",
              "      <th>currency</th>\n",
              "      <th>property_type</th>\n",
              "      <th>ciudades_encoded</th>\n",
              "    </tr>\n",
              "  </thead>\n",
              "  <tbody>\n",
              "    <tr>\n",
              "      <th>0</th>\n",
              "      <td>4.577</td>\n",
              "      <td>-74.153</td>\n",
              "      <td>Bogotá D.C</td>\n",
              "      <td>nan</td>\n",
              "      <td>2.000</td>\n",
              "      <td>nan</td>\n",
              "      <td>nan</td>\n",
              "      <td>350.000</td>\n",
              "      <td>1600000000.000</td>\n",
              "      <td>COP</td>\n",
              "      <td>Casa</td>\n",
              "      <td>0</td>\n",
              "    </tr>\n",
              "    <tr>\n",
              "      <th>1</th>\n",
              "      <td>6.253</td>\n",
              "      <td>-75.565</td>\n",
              "      <td>Medellín</td>\n",
              "      <td>nan</td>\n",
              "      <td>nan</td>\n",
              "      <td>nan</td>\n",
              "      <td>15850.000</td>\n",
              "      <td>nan</td>\n",
              "      <td>9510000000.000</td>\n",
              "      <td>COP</td>\n",
              "      <td>Lote</td>\n",
              "      <td>2</td>\n",
              "    </tr>\n",
              "    <tr>\n",
              "      <th>2</th>\n",
              "      <td>4.607</td>\n",
              "      <td>-74.076</td>\n",
              "      <td>Bogotá D.C</td>\n",
              "      <td>nan</td>\n",
              "      <td>nan</td>\n",
              "      <td>nan</td>\n",
              "      <td>727.000</td>\n",
              "      <td>2800.000</td>\n",
              "      <td>8800000000.000</td>\n",
              "      <td>COP</td>\n",
              "      <td>Otro</td>\n",
              "      <td>0</td>\n",
              "    </tr>\n",
              "    <tr>\n",
              "      <th>3</th>\n",
              "      <td>6.253</td>\n",
              "      <td>-75.606</td>\n",
              "      <td>Medellín</td>\n",
              "      <td>3.000</td>\n",
              "      <td>2.000</td>\n",
              "      <td>3.000</td>\n",
              "      <td>103.000</td>\n",
              "      <td>103.000</td>\n",
              "      <td>235000000.000</td>\n",
              "      <td>COP</td>\n",
              "      <td>Casa</td>\n",
              "      <td>2</td>\n",
              "    </tr>\n",
              "    <tr>\n",
              "      <th>4</th>\n",
              "      <td>6.252</td>\n",
              "      <td>-75.598</td>\n",
              "      <td>Medellín</td>\n",
              "      <td>3.000</td>\n",
              "      <td>2.000</td>\n",
              "      <td>3.000</td>\n",
              "      <td>89.000</td>\n",
              "      <td>89.000</td>\n",
              "      <td>380000000.000</td>\n",
              "      <td>COP</td>\n",
              "      <td>Apartamento</td>\n",
              "      <td>2</td>\n",
              "    </tr>\n",
              "  </tbody>\n",
              "</table>\n",
              "</div>"
            ],
            "text/plain": [
              "    lat     lon          l3  ...  currency  property_type  ciudades_encoded\n",
              "0 4.577 -74.153  Bogotá D.C  ...       COP           Casa                 0\n",
              "1 6.253 -75.565    Medellín  ...       COP           Lote                 2\n",
              "2 4.607 -74.076  Bogotá D.C  ...       COP           Otro                 0\n",
              "3 6.253 -75.606    Medellín  ...       COP           Casa                 2\n",
              "4 6.252 -75.598    Medellín  ...       COP    Apartamento                 2\n",
              "\n",
              "[5 rows x 12 columns]"
            ]
          },
          "metadata": {},
          "execution_count": 44
        }
      ]
    },
    {
      "cell_type": "code",
      "metadata": {
        "id": "-8p9APkDHL1h"
      },
      "source": [
        "# 0: Bogotá, 1: Cali, 2: Medellín\n",
        "houses.drop(axis=1, columns=\"l3\", inplace=True)"
      ],
      "id": "-8p9APkDHL1h",
      "execution_count": 45,
      "outputs": []
    },
    {
      "cell_type": "code",
      "metadata": {
        "colab": {
          "base_uri": "https://localhost:8080/"
        },
        "id": "BABSzT2bH84Y",
        "outputId": "aca07442-10cf-4dfc-f009-0ece41966cb7"
      },
      "source": [
        "houses[\"property_type\"].value_counts()"
      ],
      "id": "BABSzT2bH84Y",
      "execution_count": 46,
      "outputs": [
        {
          "output_type": "execute_result",
          "data": {
            "text/plain": [
              "Apartamento        114179\n",
              "Casa                64087\n",
              "Otro                38466\n",
              "Oficina              5848\n",
              "Local comercial      4945\n",
              "Lote                 2880\n",
              "Finca                 874\n",
              "Depósito              735\n",
              "Parqueadero           343\n",
              "PH                     21\n",
              "Name: property_type, dtype: int64"
            ]
          },
          "metadata": {},
          "execution_count": 46
        }
      ]
    },
    {
      "cell_type": "code",
      "metadata": {
        "id": "Sm7LP77TZVWX"
      },
      "source": [
        "houses[\"property_type\"] = houses[\"property_type\"].astype(\"category\")"
      ],
      "id": "Sm7LP77TZVWX",
      "execution_count": 47,
      "outputs": []
    },
    {
      "cell_type": "code",
      "metadata": {
        "id": "f47kv6SRIGOS"
      },
      "source": [
        "houses[\"property_encoded\"] = houses[\"property_type\"].cat.codes"
      ],
      "id": "f47kv6SRIGOS",
      "execution_count": 48,
      "outputs": []
    },
    {
      "cell_type": "code",
      "metadata": {
        "colab": {
          "base_uri": "https://localhost:8080/",
          "height": 357
        },
        "id": "2OQK3LSkZwSD",
        "outputId": "5a8b9850-6cc7-4e3c-d9a2-8c65bd021b43"
      },
      "source": [
        "houses[[\"property_type\", \"property_encoded\"]].drop_duplicates().sort_values(\"property_encoded\")"
      ],
      "id": "2OQK3LSkZwSD",
      "execution_count": 49,
      "outputs": [
        {
          "output_type": "execute_result",
          "data": {
            "text/html": [
              "<div>\n",
              "<style scoped>\n",
              "    .dataframe tbody tr th:only-of-type {\n",
              "        vertical-align: middle;\n",
              "    }\n",
              "\n",
              "    .dataframe tbody tr th {\n",
              "        vertical-align: top;\n",
              "    }\n",
              "\n",
              "    .dataframe thead th {\n",
              "        text-align: right;\n",
              "    }\n",
              "</style>\n",
              "<table border=\"1\" class=\"dataframe\">\n",
              "  <thead>\n",
              "    <tr style=\"text-align: right;\">\n",
              "      <th></th>\n",
              "      <th>property_type</th>\n",
              "      <th>property_encoded</th>\n",
              "    </tr>\n",
              "  </thead>\n",
              "  <tbody>\n",
              "    <tr>\n",
              "      <th>4</th>\n",
              "      <td>Apartamento</td>\n",
              "      <td>0</td>\n",
              "    </tr>\n",
              "    <tr>\n",
              "      <th>0</th>\n",
              "      <td>Casa</td>\n",
              "      <td>1</td>\n",
              "    </tr>\n",
              "    <tr>\n",
              "      <th>181</th>\n",
              "      <td>Depósito</td>\n",
              "      <td>2</td>\n",
              "    </tr>\n",
              "    <tr>\n",
              "      <th>131</th>\n",
              "      <td>Finca</td>\n",
              "      <td>3</td>\n",
              "    </tr>\n",
              "    <tr>\n",
              "      <th>15</th>\n",
              "      <td>Local comercial</td>\n",
              "      <td>4</td>\n",
              "    </tr>\n",
              "    <tr>\n",
              "      <th>1</th>\n",
              "      <td>Lote</td>\n",
              "      <td>5</td>\n",
              "    </tr>\n",
              "    <tr>\n",
              "      <th>16</th>\n",
              "      <td>Oficina</td>\n",
              "      <td>6</td>\n",
              "    </tr>\n",
              "    <tr>\n",
              "      <th>2</th>\n",
              "      <td>Otro</td>\n",
              "      <td>7</td>\n",
              "    </tr>\n",
              "    <tr>\n",
              "      <th>178589</th>\n",
              "      <td>PH</td>\n",
              "      <td>8</td>\n",
              "    </tr>\n",
              "    <tr>\n",
              "      <th>1983</th>\n",
              "      <td>Parqueadero</td>\n",
              "      <td>9</td>\n",
              "    </tr>\n",
              "  </tbody>\n",
              "</table>\n",
              "</div>"
            ],
            "text/plain": [
              "          property_type  property_encoded\n",
              "4           Apartamento                 0\n",
              "0                  Casa                 1\n",
              "181            Depósito                 2\n",
              "131               Finca                 3\n",
              "15      Local comercial                 4\n",
              "1                  Lote                 5\n",
              "16              Oficina                 6\n",
              "2                  Otro                 7\n",
              "178589               PH                 8\n",
              "1983        Parqueadero                 9"
            ]
          },
          "metadata": {},
          "execution_count": 49
        }
      ]
    },
    {
      "cell_type": "code",
      "metadata": {
        "id": "LtpmTfqEIRbN"
      },
      "source": [
        "houses.drop(columns=\"property_type\", inplace=True)"
      ],
      "id": "LtpmTfqEIRbN",
      "execution_count": 50,
      "outputs": []
    },
    {
      "cell_type": "code",
      "metadata": {
        "colab": {
          "base_uri": "https://localhost:8080/"
        },
        "id": "rAsW_m-VHnoU",
        "outputId": "bc0d62be-fbf8-412a-fae6-22a654f6633b"
      },
      "source": [
        "houses[houses[\"currency\"]==\"USD\"][\"price\"] = houses[\"price\"]/3500"
      ],
      "id": "rAsW_m-VHnoU",
      "execution_count": 51,
      "outputs": [
        {
          "output_type": "stream",
          "text": [
            "/usr/local/lib/python3.7/dist-packages/ipykernel_launcher.py:1: SettingWithCopyWarning: \n",
            "A value is trying to be set on a copy of a slice from a DataFrame.\n",
            "Try using .loc[row_indexer,col_indexer] = value instead\n",
            "\n",
            "See the caveats in the documentation: https://pandas.pydata.org/pandas-docs/stable/user_guide/indexing.html#returning-a-view-versus-a-copy\n",
            "  \"\"\"Entry point for launching an IPython kernel.\n"
          ],
          "name": "stderr"
        }
      ]
    },
    {
      "cell_type": "code",
      "metadata": {
        "id": "NwMuoZzJHzDi"
      },
      "source": [
        "houses.drop(columns=\"currency\", inplace=True)"
      ],
      "id": "NwMuoZzJHzDi",
      "execution_count": 52,
      "outputs": []
    },
    {
      "cell_type": "code",
      "metadata": {
        "id": "m5hOCOuqDcEJ"
      },
      "source": [
        "imputer = KNNImputer(n_neighbors=10)\n",
        "houses = imputer.fit_transform(houses)"
      ],
      "id": "m5hOCOuqDcEJ",
      "execution_count": 53,
      "outputs": []
    },
    {
      "cell_type": "code",
      "metadata": {
        "id": "a7qQ1uo9Iocx"
      },
      "source": [
        "houses = pd.DataFrame(houses)\n",
        "houses.columns = [\"lat\", \"lon\", \"l3\",\t\"rooms\tbedrooms\",\n",
        "                  \"surface_total\", \"surface_covered\", \"price\",\t\"ciudades_encoded\", \"property_encoded\"]"
      ],
      "id": "a7qQ1uo9Iocx",
      "execution_count": null,
      "outputs": []
    },
    {
      "cell_type": "code",
      "metadata": {
        "colab": {
          "base_uri": "https://localhost:8080/",
          "height": 746
        },
        "id": "GhYuN2uTWgG5",
        "outputId": "81d3b815-fef5-4661-9363-011a22db4a4e"
      },
      "source": [
        "plt.figure(figsize=(10,10));\n",
        "sns.heatmap(houses.isnull(), cbar=False);"
      ],
      "id": "GhYuN2uTWgG5",
      "execution_count": null,
      "outputs": [
        {
          "output_type": "stream",
          "text": [
            "/usr/local/lib/python3.7/dist-packages/matplotlib/backends/backend_agg.py:214: RuntimeWarning: Glyph 9 missing from current font.\n",
            "  font.set_text(s, 0.0, flags=flags)\n",
            "/usr/local/lib/python3.7/dist-packages/matplotlib/backends/backend_agg.py:183: RuntimeWarning: Glyph 9 missing from current font.\n",
            "  font.set_text(s, 0, flags=flags)\n"
          ],
          "name": "stderr"
        },
        {
          "output_type": "display_data",
          "data": {
            "image/png": "[encoded data removed]",
            "text/plain": [
              "<Figure size 720x720 with 1 Axes>"
            ]
          },
          "metadata": {
            "needs_background": "light"
          }
        }
      ]
    },
    {
      "cell_type": "code",
      "metadata": {
        "id": "b-5zBlIkWrWA"
      },
      "source": [
        "houses.to_excel(\"houses_imputed.xlsx\")"
      ],
      "id": "b-5zBlIkWrWA",
      "execution_count": null,
      "outputs": []
    },
    {
      "cell_type": "code",
      "metadata": {
        "colab": {
          "base_uri": "https://localhost:8080/"
        },
        "id": "OFOP8eiw2fPz",
        "outputId": "f58b52c4-25c0-4303-c2d4-836f5a03f58f"
      },
      "source": [
        "houses.info()"
      ],
      "id": "OFOP8eiw2fPz",
      "execution_count": null,
      "outputs": [
        {
          "output_type": "stream",
          "text": [
            "<class 'pandas.core.frame.DataFrame'>\n",
            "RangeIndex: 232378 entries, 0 to 232377\n",
            "Data columns (total 11 columns):\n",
            " #   Column           Non-Null Count   Dtype  \n",
            "---  ------           --------------   -----  \n",
            " 0   lat              200808 non-null  float64\n",
            " 1   lon              200808 non-null  float64\n",
            " 2   l3               232378 non-null  object \n",
            " 3   rooms            83774 non-null   float64\n",
            " 4   bedrooms         85233 non-null   float64\n",
            " 5   surface_total    80500 non-null   float64\n",
            " 6   surface_covered  80192 non-null   float64\n",
            " 7   price            232378 non-null  float64\n",
            " 8   currency         232378 non-null  object \n",
            " 9   property_type    232378 non-null  object \n",
            " 10  operation_type   232378 non-null  object \n",
            "dtypes: float64(7), object(4)\n",
            "memory usage: 19.5+ MB\n"
          ],
          "name": "stdout"
        }
      ]
    },
    {
      "cell_type": "markdown",
      "metadata": {
        "id": "KZkkERWXXaQh"
      },
      "source": [
        "# Sección nueva"
      ],
      "id": "KZkkERWXXaQh"
    },
    {
      "cell_type": "code",
      "metadata": {
        "id": "43ff0aac-cee6-43a3-bf47-301bc5793722",
        "outputId": "bb206a0e-939d-4aaf-e88f-c6ef64ebc9de"
      },
      "source": [
        "houses.isna().sum()"
      ],
      "id": "43ff0aac-cee6-43a3-bf47-301bc5793722",
      "execution_count": null,
      "outputs": [
        {
          "data": {
            "text/plain": [
              "lat                 31570\n",
              "lon                 31570\n",
              "l3                      0\n",
              "l6                 196431\n",
              "rooms              148604\n",
              "bedrooms           147145\n",
              "surface_total      151878\n",
              "surface_covered    152186\n",
              "price                   0\n",
              "currency                0\n",
              "property_type           0\n",
              "operation_type          0\n",
              "dtype: int64"
            ]
          },
          "execution_count": 45,
          "metadata": {},
          "output_type": "execute_result"
        }
      ]
    },
    {
      "cell_type": "code",
      "metadata": {
        "id": "8162450e-552c-49f3-8a65-f6eaa42a3c0e",
        "outputId": "f78f8754-09c4-4f96-bad8-4878062e2a90"
      },
      "source": [
        "\n",
        "#\n",
        "#Crear variables de precio por metro 2\n",
        "#\n",
        "\n",
        "housing['price_metro2'] = housing['price'] / housing['surface_total']\n",
        "\n",
        "housing['price_metro2_cover'] = (housing['price'] / housing['surface_covered'])\n",
        "\n",
        "housing.count()"
      ],
      "id": "8162450e-552c-49f3-8a65-f6eaa42a3c0e",
      "execution_count": null,
      "outputs": [
        {
          "data": {
            "text/plain": [
              "id                    878103\n",
              "ad_type               878103\n",
              "start_date            878103\n",
              "end_date              878103\n",
              "created_on            878103\n",
              "lat                   743969\n",
              "lon                   743969\n",
              "l1                    878103\n",
              "l2                    878103\n",
              "l3                    801092\n",
              "l4                    305314\n",
              "l5                    171341\n",
              "l6                     57236\n",
              "rooms                 258729\n",
              "bedrooms              332720\n",
              "bathrooms             736201\n",
              "surface_total         308817\n",
              "surface_covered       259213\n",
              "price                 869650\n",
              "currency              869414\n",
              "price_period           25879\n",
              "title                 878064\n",
              "description           878048\n",
              "property_type         878103\n",
              "operation_type        878103\n",
              "price_metro2          304561\n",
              "price_metro2_cover    256549\n",
              "dtype: int64"
            ]
          },
          "execution_count": 4,
          "metadata": {},
          "output_type": "execute_result"
        }
      ]
    },
    {
      "cell_type": "code",
      "metadata": {
        "id": "e16a33b4-1689-4d3b-93dd-25d072156abf"
      },
      "source": [
        "#\n",
        "#\n",
        "# Eliminar Valores negativos\n"
      ],
      "id": "e16a33b4-1689-4d3b-93dd-25d072156abf",
      "execution_count": null,
      "outputs": []
    },
    {
      "cell_type": "code",
      "metadata": {
        "id": "d898b107-83ee-4a6b-884f-bba42d9a9d12"
      },
      "source": [
        "#\n",
        "#\n",
        "# diferenciar opetration type"
      ],
      "id": "d898b107-83ee-4a6b-884f-bba42d9a9d12",
      "execution_count": null,
      "outputs": []
    },
    {
      "cell_type": "code",
      "metadata": {
        "id": "2eb3a137-86ee-40c3-911a-df0fc14177a4",
        "outputId": "9d765b94-8369-4b9f-e0d8-504d422c14ea"
      },
      "source": [
        "#\n",
        "#\n",
        "#Revisamos variables y missing values\n",
        "\n",
        "housing.head()\n",
        "housing.isna().sum()"
      ],
      "id": "2eb3a137-86ee-40c3-911a-df0fc14177a4",
      "execution_count": null,
      "outputs": [
        {
          "data": {
            "text/plain": [
              "id                         0\n",
              "ad_type                    0\n",
              "start_date                 0\n",
              "end_date                   0\n",
              "created_on                 0\n",
              "lat                   134134\n",
              "lon                   134134\n",
              "l1                         0\n",
              "l2                         0\n",
              "l3                     77011\n",
              "l4                    572789\n",
              "l5                    706762\n",
              "l6                    820867\n",
              "rooms                 619374\n",
              "bedrooms              545383\n",
              "bathrooms             141902\n",
              "surface_total         569286\n",
              "surface_covered       618890\n",
              "price                   8453\n",
              "currency                8689\n",
              "price_period          852224\n",
              "title                     39\n",
              "description               55\n",
              "property_type              0\n",
              "operation_type             0\n",
              "price_metro2          573542\n",
              "price_metro2_cover    621554\n",
              "dtype: int64"
            ]
          },
          "execution_count": 20,
          "metadata": {},
          "output_type": "execute_result"
        }
      ]
    },
    {
      "cell_type": "code",
      "metadata": {
        "id": "a588af16-6e01-4704-9582-25a33160d511",
        "outputId": "87e7f6c3-c315-4938-9de2-9c00583a68e1"
      },
      "source": [
        "houses_1.groupby('l3').agg({'price_metro2_cover':'mean'})"
      ],
      "id": "a588af16-6e01-4704-9582-25a33160d511",
      "execution_count": null,
      "outputs": [
        {
          "data": {
            "text/html": [
              "<div>\n",
              "<style scoped>\n",
              "    .dataframe tbody tr th:only-of-type {\n",
              "        vertical-align: middle;\n",
              "    }\n",
              "\n",
              "    .dataframe tbody tr th {\n",
              "        vertical-align: top;\n",
              "    }\n",
              "\n",
              "    .dataframe thead th {\n",
              "        text-align: right;\n",
              "    }\n",
              "</style>\n",
              "<table border=\"1\" class=\"dataframe\">\n",
              "  <thead>\n",
              "    <tr style=\"text-align: right;\">\n",
              "      <th></th>\n",
              "      <th>price_metro2_cover</th>\n",
              "    </tr>\n",
              "    <tr>\n",
              "      <th>l3</th>\n",
              "      <th></th>\n",
              "    </tr>\n",
              "  </thead>\n",
              "  <tbody>\n",
              "    <tr>\n",
              "      <th>Bogotá D.C</th>\n",
              "      <td>5330248.657</td>\n",
              "    </tr>\n",
              "    <tr>\n",
              "      <th>Cali</th>\n",
              "      <td>4992451.734</td>\n",
              "    </tr>\n",
              "    <tr>\n",
              "      <th>Medellín</th>\n",
              "      <td>3769145.014</td>\n",
              "    </tr>\n",
              "    <tr>\n",
              "      <th>Soledad</th>\n",
              "      <td>5427704.721</td>\n",
              "    </tr>\n",
              "  </tbody>\n",
              "</table>\n",
              "</div>"
            ],
            "text/plain": [
              "            price_metro2_cover\n",
              "l3                            \n",
              "Bogotá D.C         5330248.657\n",
              "Cali               4992451.734\n",
              "Medellín           3769145.014\n",
              "Soledad            5427704.721"
            ]
          },
          "execution_count": 22,
          "metadata": {},
          "output_type": "execute_result"
        }
      ]
    },
    {
      "cell_type": "code",
      "metadata": {
        "id": "9fd55f6e-70a3-4f5e-adeb-08fce5dff5c3",
        "outputId": "9c5e182f-c612-4922-a844-02a7c085a5dc"
      },
      "source": [
        "houses_1['precio_prom'] = mean((houses_1['price_metro2']))\n"
      ],
      "id": "9fd55f6e-70a3-4f5e-adeb-08fce5dff5c3",
      "execution_count": null,
      "outputs": [
        {
          "data": {
            "text/html": [
              "<div>\n",
              "<style scoped>\n",
              "    .dataframe tbody tr th:only-of-type {\n",
              "        vertical-align: middle;\n",
              "    }\n",
              "\n",
              "    .dataframe tbody tr th {\n",
              "        vertical-align: top;\n",
              "    }\n",
              "\n",
              "    .dataframe thead th {\n",
              "        text-align: right;\n",
              "    }\n",
              "</style>\n",
              "<table border=\"1\" class=\"dataframe\">\n",
              "  <thead>\n",
              "    <tr style=\"text-align: right;\">\n",
              "      <th></th>\n",
              "      <th>rooms</th>\n",
              "      <th>bathrooms</th>\n",
              "      <th>surface_total</th>\n",
              "      <th>surface_covered</th>\n",
              "      <th>price</th>\n",
              "      <th>price_metro2</th>\n",
              "      <th>price_metro2_cover</th>\n",
              "    </tr>\n",
              "  </thead>\n",
              "  <tbody>\n",
              "    <tr>\n",
              "      <th>count</th>\n",
              "      <td>118905.000</td>\n",
              "      <td>328049.000</td>\n",
              "      <td>130142.000</td>\n",
              "      <td>123112.000</td>\n",
              "      <td>376881.000</td>\n",
              "      <td>130142.000</td>\n",
              "      <td>123112.000</td>\n",
              "    </tr>\n",
              "    <tr>\n",
              "      <th>mean</th>\n",
              "      <td>3.106</td>\n",
              "      <td>2.658</td>\n",
              "      <td>355.251</td>\n",
              "      <td>399.497</td>\n",
              "      <td>545648037.508</td>\n",
              "      <td>2816520.643</td>\n",
              "      <td>4951703.508</td>\n",
              "    </tr>\n",
              "    <tr>\n",
              "      <th>std</th>\n",
              "      <td>1.857</td>\n",
              "      <td>1.579</td>\n",
              "      <td>3375.783</td>\n",
              "      <td>36203.605</td>\n",
              "      <td>2160778354.549</td>\n",
              "      <td>19118931.039</td>\n",
              "      <td>116549149.163</td>\n",
              "    </tr>\n",
              "    <tr>\n",
              "      <th>min</th>\n",
              "      <td>1.000</td>\n",
              "      <td>1.000</td>\n",
              "      <td>-36.000</td>\n",
              "      <td>1.000</td>\n",
              "      <td>1200.000</td>\n",
              "      <td>-14444444.444</td>\n",
              "      <td>9.333</td>\n",
              "    </tr>\n",
              "    <tr>\n",
              "      <th>25%</th>\n",
              "      <td>2.000</td>\n",
              "      <td>2.000</td>\n",
              "      <td>65.000</td>\n",
              "      <td>66.000</td>\n",
              "      <td>3240000.000</td>\n",
              "      <td>27500.000</td>\n",
              "      <td>37209.302</td>\n",
              "    </tr>\n",
              "    <tr>\n",
              "      <th>50%</th>\n",
              "      <td>3.000</td>\n",
              "      <td>2.000</td>\n",
              "      <td>100.000</td>\n",
              "      <td>102.000</td>\n",
              "      <td>220000000.000</td>\n",
              "      <td>2150268.817</td>\n",
              "      <td>2811910.377</td>\n",
              "    </tr>\n",
              "    <tr>\n",
              "      <th>75%</th>\n",
              "      <td>3.000</td>\n",
              "      <td>3.000</td>\n",
              "      <td>194.000</td>\n",
              "      <td>190.000</td>\n",
              "      <td>550000000.000</td>\n",
              "      <td>4088725.490</td>\n",
              "      <td>4787234.043</td>\n",
              "    </tr>\n",
              "    <tr>\n",
              "      <th>max</th>\n",
              "      <td>40.000</td>\n",
              "      <td>20.000</td>\n",
              "      <td>198000.000</td>\n",
              "      <td>12000000.000</td>\n",
              "      <td>165000000000.000</td>\n",
              "      <td>4125000000.000</td>\n",
              "      <td>20520000000.000</td>\n",
              "    </tr>\n",
              "  </tbody>\n",
              "</table>\n",
              "</div>"
            ],
            "text/plain": [
              "           rooms  bathrooms  surface_total  surface_covered            price  \\\n",
              "count 118905.000 328049.000     130142.000       123112.000       376881.000   \n",
              "mean       3.106      2.658        355.251          399.497    545648037.508   \n",
              "std        1.857      1.579       3375.783        36203.605   2160778354.549   \n",
              "min        1.000      1.000        -36.000            1.000         1200.000   \n",
              "25%        2.000      2.000         65.000           66.000      3240000.000   \n",
              "50%        3.000      2.000        100.000          102.000    220000000.000   \n",
              "75%        3.000      3.000        194.000          190.000    550000000.000   \n",
              "max       40.000     20.000     198000.000     12000000.000 165000000000.000   \n",
              "\n",
              "        price_metro2  price_metro2_cover  \n",
              "count     130142.000          123112.000  \n",
              "mean     2816520.643         4951703.508  \n",
              "std     19118931.039       116549149.163  \n",
              "min    -14444444.444               9.333  \n",
              "25%        27500.000           37209.302  \n",
              "50%      2150268.817         2811910.377  \n",
              "75%      4088725.490         4787234.043  \n",
              "max   4125000000.000     20520000000.000  "
            ]
          },
          "execution_count": 19,
          "metadata": {},
          "output_type": "execute_result"
        }
      ]
    },
    {
      "cell_type": "code",
      "metadata": {
        "id": "1469d8a9-9a3a-4141-9c72-44a6758d0bb4",
        "outputId": "47af8781-5359-4d46-c1a1-2f9a968ca496"
      },
      "source": [
        "houses_1[['rooms','bathrooms','surface_total','surface_covered','price'\n",
        "         , 'price_metro2', 'price_metro2_cover']].describe()"
      ],
      "id": "1469d8a9-9a3a-4141-9c72-44a6758d0bb4",
      "execution_count": null,
      "outputs": [
        {
          "data": {
            "text/html": [
              "<div>\n",
              "<style scoped>\n",
              "    .dataframe tbody tr th:only-of-type {\n",
              "        vertical-align: middle;\n",
              "    }\n",
              "\n",
              "    .dataframe tbody tr th {\n",
              "        vertical-align: top;\n",
              "    }\n",
              "\n",
              "    .dataframe thead th {\n",
              "        text-align: right;\n",
              "    }\n",
              "</style>\n",
              "<table border=\"1\" class=\"dataframe\">\n",
              "  <thead>\n",
              "    <tr style=\"text-align: right;\">\n",
              "      <th></th>\n",
              "      <th>rooms</th>\n",
              "      <th>bathrooms</th>\n",
              "      <th>surface_total</th>\n",
              "      <th>surface_covered</th>\n",
              "      <th>price</th>\n",
              "      <th>price_metro2</th>\n",
              "      <th>price_metro2_cover</th>\n",
              "    </tr>\n",
              "  </thead>\n",
              "  <tbody>\n",
              "    <tr>\n",
              "      <th>count</th>\n",
              "      <td>119285.000</td>\n",
              "      <td>329176.000</td>\n",
              "      <td>130750.000</td>\n",
              "      <td>123555.000</td>\n",
              "      <td>378245.000</td>\n",
              "      <td>130750.000</td>\n",
              "      <td>123555.000</td>\n",
              "    </tr>\n",
              "    <tr>\n",
              "      <th>mean</th>\n",
              "      <td>3.105</td>\n",
              "      <td>2.654</td>\n",
              "      <td>357.947</td>\n",
              "      <td>407.591</td>\n",
              "      <td>546978771.449</td>\n",
              "      <td>2824505.316</td>\n",
              "      <td>4953410.185</td>\n",
              "    </tr>\n",
              "    <tr>\n",
              "      <th>std</th>\n",
              "      <td>1.855</td>\n",
              "      <td>1.579</td>\n",
              "      <td>3399.140</td>\n",
              "      <td>36220.120</td>\n",
              "      <td>2205542827.716</td>\n",
              "      <td>19825440.254</td>\n",
              "      <td>116471060.629</td>\n",
              "    </tr>\n",
              "    <tr>\n",
              "      <th>min</th>\n",
              "      <td>1.000</td>\n",
              "      <td>1.000</td>\n",
              "      <td>-36.000</td>\n",
              "      <td>1.000</td>\n",
              "      <td>1200.000</td>\n",
              "      <td>-14444444.444</td>\n",
              "      <td>9.333</td>\n",
              "    </tr>\n",
              "    <tr>\n",
              "      <th>25%</th>\n",
              "      <td>2.000</td>\n",
              "      <td>2.000</td>\n",
              "      <td>65.000</td>\n",
              "      <td>66.000</td>\n",
              "      <td>3230000.000</td>\n",
              "      <td>27551.086</td>\n",
              "      <td>37037.037</td>\n",
              "    </tr>\n",
              "    <tr>\n",
              "      <th>50%</th>\n",
              "      <td>3.000</td>\n",
              "      <td>2.000</td>\n",
              "      <td>100.000</td>\n",
              "      <td>102.000</td>\n",
              "      <td>219900000.000</td>\n",
              "      <td>2136363.636</td>\n",
              "      <td>2800000.000</td>\n",
              "    </tr>\n",
              "    <tr>\n",
              "      <th>75%</th>\n",
              "      <td>3.000</td>\n",
              "      <td>3.000</td>\n",
              "      <td>193.000</td>\n",
              "      <td>190.000</td>\n",
              "      <td>550000000.000</td>\n",
              "      <td>4078879.263</td>\n",
              "      <td>4782608.696</td>\n",
              "    </tr>\n",
              "    <tr>\n",
              "      <th>max</th>\n",
              "      <td>40.000</td>\n",
              "      <td>20.000</td>\n",
              "      <td>198000.000</td>\n",
              "      <td>12000000.000</td>\n",
              "      <td>165000000000.000</td>\n",
              "      <td>4125000000.000</td>\n",
              "      <td>20520000000.000</td>\n",
              "    </tr>\n",
              "  </tbody>\n",
              "</table>\n",
              "</div>"
            ],
            "text/plain": [
              "           rooms  bathrooms  surface_total  surface_covered            price  \\\n",
              "count 119285.000 329176.000     130750.000       123555.000       378245.000   \n",
              "mean       3.105      2.654        357.947          407.591    546978771.449   \n",
              "std        1.855      1.579       3399.140        36220.120   2205542827.716   \n",
              "min        1.000      1.000        -36.000            1.000         1200.000   \n",
              "25%        2.000      2.000         65.000           66.000      3230000.000   \n",
              "50%        3.000      2.000        100.000          102.000    219900000.000   \n",
              "75%        3.000      3.000        193.000          190.000    550000000.000   \n",
              "max       40.000     20.000     198000.000     12000000.000 165000000000.000   \n",
              "\n",
              "        price_metro2  price_metro2_cover  \n",
              "count     130750.000          123555.000  \n",
              "mean     2824505.316         4953410.185  \n",
              "std     19825440.254       116471060.629  \n",
              "min    -14444444.444               9.333  \n",
              "25%        27551.086           37037.037  \n",
              "50%      2136363.636         2800000.000  \n",
              "75%      4078879.263         4782608.696  \n",
              "max   4125000000.000     20520000000.000  "
            ]
          },
          "execution_count": 29,
          "metadata": {},
          "output_type": "execute_result"
        }
      ]
    },
    {
      "cell_type": "code",
      "metadata": {
        "id": "0483bf92-60a1-4909-b28b-a8d96a769645"
      },
      "source": [
        ""
      ],
      "id": "0483bf92-60a1-4909-b28b-a8d96a769645",
      "execution_count": null,
      "outputs": []
    }
  ]
}